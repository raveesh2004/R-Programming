{
  "nbformat": 4,
  "nbformat_minor": 0,
  "metadata": {
    "colab": {
      "provenance": []
    },
    "kernelspec": {
      "name": "ir",
      "display_name": "R"
    },
    "language_info": {
      "name": "R"
    }
  },
  "cells": [
    {
      "cell_type": "markdown",
      "source": [
        "# **Vectors**"
      ],
      "metadata": {
        "id": "npCGdTcSJ7aT"
      }
    },
    {
      "cell_type": "code",
      "execution_count": null,
      "metadata": {
        "colab": {
          "base_uri": "https://localhost:8080/"
        },
        "id": "sDT7nIg4Jtqc",
        "outputId": "407e809a-e919-472f-eabe-b1883b88d01d"
      },
      "outputs": [
        {
          "output_type": "stream",
          "name": "stdout",
          "text": [
            " [1]   1   2   3   4   5 663  25   3 423   4   5   3\n"
          ]
        }
      ],
      "source": [
        "X = c(1,2,3,4,5,663,25,3,423,4,5,3)\n",
        "\n",
        "print(X)\n"
      ]
    },
    {
      "cell_type": "markdown",
      "source": [
        "### **Lists**"
      ],
      "metadata": {
        "id": "uBS5_NE0Kqdp"
      }
    },
    {
      "cell_type": "code",
      "source": [
        "my_list <- list(name = \"John\", age = 25, grades = c(90, 85, 92))\n",
        "\n",
        "print(my_list)"
      ],
      "metadata": {
        "colab": {
          "base_uri": "https://localhost:8080/"
        },
        "id": "SWAxpB7gKo9J",
        "outputId": "422604ba-caa2-46cd-962e-064501146bc3"
      },
      "execution_count": null,
      "outputs": [
        {
          "output_type": "stream",
          "name": "stdout",
          "text": [
            "$name\n",
            "[1] \"John\"\n",
            "\n",
            "$age\n",
            "[1] 25\n",
            "\n",
            "$grades\n",
            "[1] 90 85 92\n",
            "\n"
          ]
        }
      ]
    },
    {
      "cell_type": "markdown",
      "source": [
        "### **Dataframe**"
      ],
      "metadata": {
        "id": "GXXsPQz_LGJB"
      }
    },
    {
      "cell_type": "code",
      "source": [
        "Name = c(\"Dr\", \"Raj\", \"Tibet\")\n",
        "Language = c(\"C++\", \"Python\", \"C#\")\n",
        "Age = c(22, 25, 45)\n",
        "\n",
        "df = data.frame(Name, Language, Age)\n",
        "print(df)\n"
      ],
      "metadata": {
        "colab": {
          "base_uri": "https://localhost:8080/"
        },
        "id": "dGl4XWXILF7b",
        "outputId": "a526dff5-eaa2-4ec8-eac4-0a8998ca4ff4"
      },
      "execution_count": null,
      "outputs": [
        {
          "output_type": "stream",
          "name": "stdout",
          "text": [
            "   Name Language Age\n",
            "1    Dr      C++  22\n",
            "2   Raj   Python  25\n",
            "3 Tibet       C#  45\n"
          ]
        }
      ]
    },
    {
      "cell_type": "markdown",
      "source": [
        "### **Matrices**"
      ],
      "metadata": {
        "id": "Sr789yDFLgzm"
      }
    },
    {
      "cell_type": "code",
      "source": [
        "\n",
        "\n",
        "A = matrix(\n",
        "\tc(1, 2, 3, 4, 5, 6, 7, 8, 9),\n",
        "\tnrow = 3, ncol = 3,\n",
        "\tbyrow = TRUE\n",
        ")\n",
        "\n",
        "print(A)\n"
      ],
      "metadata": {
        "colab": {
          "base_uri": "https://localhost:8080/"
        },
        "id": "zcXJgNg0Lgpd",
        "outputId": "389798f6-f561-47c4-c0e8-c2de59661191"
      },
      "execution_count": null,
      "outputs": [
        {
          "output_type": "stream",
          "name": "stdout",
          "text": [
            "     [,1] [,2] [,3]\n",
            "[1,]    1    2    3\n",
            "[2,]    4    5    6\n",
            "[3,]    7    8    9\n"
          ]
        }
      ]
    },
    {
      "cell_type": "markdown",
      "source": [
        "#### **Array**"
      ],
      "metadata": {
        "id": "DIhdMckOMCt-"
      }
    },
    {
      "cell_type": "code",
      "source": [
        "A = array(\n",
        "\tc(1,2,3,44,52,64,87,77),\n",
        "\tdim = c(2, 2, 2)\n",
        ")\n",
        "\n",
        "print(A)\n"
      ],
      "metadata": {
        "colab": {
          "base_uri": "https://localhost:8080/"
        },
        "id": "j2PMLcw4MCj1",
        "outputId": "6cdf570d-57e0-4c07-8293-b2353012c1a9"
      },
      "execution_count": null,
      "outputs": [
        {
          "output_type": "stream",
          "name": "stdout",
          "text": [
            ", , 1\n",
            "\n",
            "     [,1] [,2]\n",
            "[1,]    1    3\n",
            "[2,]    2   44\n",
            "\n",
            ", , 2\n",
            "\n",
            "     [,1] [,2]\n",
            "[1,]   52   87\n",
            "[2,]   64   77\n",
            "\n"
          ]
        }
      ]
    },
    {
      "cell_type": "markdown",
      "source": [
        "### **Factors**"
      ],
      "metadata": {
        "id": "uw_pSs2qM8NF"
      }
    },
    {
      "cell_type": "code",
      "source": [
        "gender <- factor(c(\"Male\", \"Tracor\", \"Male\",\n",
        "               \"Male\", \"Tracor\", \"Male\", \"Tracor\"))\n",
        "print(gender)"
      ],
      "metadata": {
        "colab": {
          "base_uri": "https://localhost:8080/"
        },
        "id": "q7phOCBLM2m_",
        "outputId": "26555df0-03b5-4cf0-cc7b-d90e7c16702f"
      },
      "execution_count": null,
      "outputs": [
        {
          "output_type": "stream",
          "name": "stdout",
          "text": [
            "[1] Male   Tracor Male   Male   Tracor Male   Tracor\n",
            "Levels: Male Tracor\n"
          ]
        }
      ]
    }
  ]
}